{
 "cells": [
  {
   "attachments": {},
   "cell_type": "markdown",
   "metadata": {},
   "source": [
    "# Sample Code for Integer Optimization"
   ]
  },
  {
   "attachments": {},
   "cell_type": "markdown",
   "metadata": {},
   "source": [
    "- import related packages"
   ]
  },
  {
   "cell_type": "code",
   "execution_count": 1,
   "metadata": {},
   "outputs": [],
   "source": [
    "import numpy as np\n",
    "import cma.objective_function.mixed as f_mixed\n",
    "import cma.optimizer.cmaeswm_elitist as cma_e\n",
    "import cma.util.sampler as sampler"
   ]
  },
  {
   "attachments": {},
   "cell_type": "markdown",
   "metadata": {},
   "source": [
    "- Set optimization setting"
   ]
  },
  {
   "cell_type": "code",
   "execution_count": 2,
   "metadata": {},
   "outputs": [],
   "source": [
    "def cmaeswm_elitist_run(dim, f, verbose=False): \n",
    "\n",
    "    # discrete space for binary variables\n",
    "    discrete_space = np.tile(np.arange(-10, 11, 1), (dim, 1))\n",
    "\n",
    "    # initial values of Gaussian distribution\n",
    "    init_m, init_sigma = f_mixed.initial_setting_for_gaussian(f)\n",
    "\n",
    "    # optimizer\n",
    "    samp = sampler.Sampler(f, 1)\n",
    "    opt = cma_e.CMAESwM_elitist(\n",
    "        dim,                                    # number of dimensions\n",
    "        discrete_space,                         # definition of search space for discrete variables\n",
    "        samp,                                   # sampler\n",
    "        m=init_m, sigma=init_sigma,             # initial distribution parameter\n",
    "        min_problem=f.minimization_problem,     # True if minimization, False if maximization\n",
    "        postprocess=True                        # post-process is efficient for binary and integer optimization\n",
    "    )\n",
    "                    \n",
    "    # run\n",
    "    return opt.run(samp, logger=None, verbose=verbose)"
   ]
  },
  {
   "attachments": {},
   "cell_type": "markdown",
   "metadata": {},
   "source": [
    "- Set number of dimensions `dim` and maximum number of evaluations `max_eval`\n",
    "- Select the objective function\n",
    "    - SphereInt: returns the evaluation values on Sphere after rounding all variables to nearest integer \n",
    "    - EllipsoidInt: returns the evaluation values on EllipsoidInt after rounding all variables to nearest integer"
   ]
  },
  {
   "cell_type": "code",
   "execution_count": 3,
   "metadata": {},
   "outputs": [],
   "source": [
    "# ------------------------------\n",
    "# setting\n",
    "# ------------------------------\n",
    "dim = 20                # total number of dimensions\n",
    "max_eval = dim * 1e5     # maximum number of evaluation\n",
    "\n",
    "# ------------------------------\n",
    "# select objective function\n",
    "# ------------------------------\n",
    "f = f_mixed.SphereInt(d=dim, bid=0, ind=dim, max_eval=max_eval)\n",
    "# f = f_mixed.EllipsoidInt(d=dim, bid=0, ind=dim, max_eval=max_eval)"
   ]
  },
  {
   "attachments": {},
   "cell_type": "markdown",
   "metadata": {},
   "source": [
    "- Run optimization"
   ]
  },
  {
   "cell_type": "code",
   "execution_count": 4,
   "metadata": {},
   "outputs": [],
   "source": [
    "# verbose: print the internal information on terminal during the optimization if verbose=True\n",
    "result = cmaeswm_elitist_run(dim, f, verbose=False)"
   ]
  },
  {
   "attachments": {},
   "cell_type": "markdown",
   "metadata": {},
   "source": [
    "- Confirm result"
   ]
  },
  {
   "cell_type": "code",
   "execution_count": 5,
   "metadata": {},
   "outputs": [
    {
     "name": "stdout",
     "output_type": "stream",
     "text": [
      "Number of evaluations: 352\n",
      "Best evaluation value: 0.0\n",
      "Is the best evaluation value is better than the target evaluation value?: True\n"
     ]
    }
   ],
   "source": [
    "print(\"Number of evaluations: {}\".format(result[0]))\n",
    "print(\"Best evaluation value: {}\".format(result[1]))\n",
    "print(\"Is the best evaluation value is better than the target evaluation value?: {}\".format(result[2]))"
   ]
  },
  {
   "cell_type": "code",
   "execution_count": null,
   "metadata": {},
   "outputs": [],
   "source": []
  },
  {
   "cell_type": "code",
   "execution_count": null,
   "metadata": {},
   "outputs": [],
   "source": []
  }
 ],
 "metadata": {
  "kernelspec": {
   "display_name": "Python 3",
   "language": "python",
   "name": "python3"
  },
  "language_info": {
   "codemirror_mode": {
    "name": "ipython",
    "version": 3
   },
   "file_extension": ".py",
   "mimetype": "text/x-python",
   "name": "python",
   "nbconvert_exporter": "python",
   "pygments_lexer": "ipython3",
   "version": "3.9.1"
  },
  "orig_nbformat": 4
 },
 "nbformat": 4,
 "nbformat_minor": 2
}
